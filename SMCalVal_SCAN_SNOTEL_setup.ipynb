{
 "cells": [
  {
   "cell_type": "markdown",
   "metadata": {},
   "source": [
    "## SCAN/SNOTEL data\n",
    "Cite data as:\n",
    "United States, US Department of Agriculture, Natural Resource Conservation Service, National Water and Climate Center. (2024, February 29). Air and Water Database. Water and Climate Information System. https://nwcc-apps.sc.egov.usda.gov/\n",
    "\n",
    "Schaefer, G., Cosh, M. & Jackson, T. (2007), ‘The USDA natural resources conservation service soil climate analysis network (scan)’, Journal of Atmospheric and Oceanic Technology - J ATMOS OCEAN TECHNOL 24, https://doi.org/10.1175/2007JTECHA930.1\n",
    "\n",
    "Fleming, S. W., Zukiewicz, L., Strobel, M. L., Hofman, H., & Goodbody, A. G. (2023). SNOTEL, the soil climate analysis network, and water supply forecasting at the natural resources conservation service: Past, present, and future. JAWRA Journal of the American Water Resources Association, 59(4), 585-599."
   ]
  },
  {
   "cell_type": "code",
   "execution_count": 12,
   "metadata": {},
   "outputs": [],
   "source": [
    "import os\n",
    "import glob\n",
    "from pathlib import Path\n",
    "import requests\n",
    "import json\n",
    "from osgeo import gdal,osr,ogr\n",
    "import datetime\n",
    "import pandas as pd\n",
    "import geopandas as gpd\n",
    "import shapely\n",
    "import numpy as np\n",
    "import h5py\n",
    "import csv\n",
    "from zeep import Client, Settings\n",
    "import matplotlib\n",
    "import matplotlib.pyplot as plt\n",
    "from mpl_toolkits.basemap import Basemap\n",
    "from matplotlib.dates import DateFormatter\n",
    "import matplotlib.path as mpltPath\n",
    "import re\n",
    "from utilsCalVal import EASEconvert\n",
    "from scipy.spatial import ConvexHull\n",
    "import setParams as p\n"
   ]
  },
  {
   "cell_type": "code",
   "execution_count": 13,
   "metadata": {},
   "outputs": [
    {
     "name": "stdout",
     "output_type": "stream",
     "text": [
      "/scratch/rlohman/WalnutGulchB/Path162Frame2980BeamFP64/\n"
     ]
    }
   ],
   "source": [
    "anciStatic    = p.anciStatic\n",
    "outFile        = '/scratch/rlohman/SMCalVal/results.csv'\n",
    "scanPath       = '/scratch/rlohman/SMCalVal/SCAN/'\n"
   ]
  },
  {
   "cell_type": "code",
   "execution_count": 14,
   "metadata": {},
   "outputs": [
    {
     "name": "stdout",
     "output_type": "stream",
     "text": [
      "23 dates in list\n"
     ]
    }
   ],
   "source": [
    "outFiles     = np.array(glob.glob(modDirs[0]+('[0-9]'*8)+'.h5'))\n",
    "\n",
    "# #find index of begin/end of dates, assume format same for all\n",
    "tmp          = re.search(r'2[0-9]{7}',outFiles[0])\n",
    "inds         = tmp.span()\n",
    "dates        = np.array([datetime.datetime.strptime(x[inds[0]:inds[1]],'%Y%m%d') for x in outFiles])\n",
    "\n",
    "sort_index   = np.argsort(dates)\n",
    "gcovs        = outFiles[sort_index]\n",
    "dates        = dates[sort_index]\n",
    "\n",
    "\n",
    "allgcovs      = np.reshape([dirName+os.path.basename(x) for dirName in modDirs for x in gcovs],[len(modDirs),len(dates)])\n",
    "\n",
    "year0        = dates[0].year\n",
    "yearN        = dates[-1].year\n",
    "print(str(len(dates))+' dates in list')"
   ]
  },
  {
   "cell_type": "code",
   "execution_count": 15,
   "metadata": {
    "tags": []
   },
   "outputs": [],
   "source": [
    "#read in first date, DSG algorithm, to construct bounding polygon\n",
    "\n",
    "fo  = h5py.File(allgcovs[0,0],'r')\n",
    "lat = fo['/science/LSAR/SME2/grids/latitude'][()]\n",
    "lon = fo['/science/LSAR/SME2/grids/longitude'][()]\n",
    "eci = fo['/science/LSAR/SME2/grids/EASEGridColumnIndex'][()]\n",
    "eri = fo['/science/LSAR/SME2/grids/EASEGridRowIndex'][()]\n",
    "ret = fo['/science/LSAR/SME2/grids/algorithmCandidates/DSG/soilMoisture'][()] #for plotting only\n",
    "fo.close()\n",
    "\n",
    "long,latg = np.meshgrid(lon,lat)\n",
    "good      = np.isfinite(ret)\n",
    "lat1      = latg[good].flatten()\n",
    "lon1      = long[good].flatten()\n",
    "points    = np.array([lat1,lon1]).T\n",
    "\n",
    "tmp       = ConvexHull(points)\n",
    "footprint = np.array([points[tmp.vertices,0],points[tmp.vertices,1]]).T #lat,lon of non-nan region"
   ]
  },
  {
   "cell_type": "code",
   "execution_count": 16,
   "metadata": {
    "tags": []
   },
   "outputs": [],
   "source": [
    "#API lets us search min/max long/lat, not polygon\n",
    "minLatitude  = np.min(footprint[:,0])\n",
    "maxLatitude  = np.max(footprint[:,0])\n",
    "minLongitude = np.min(footprint[:,1])\n",
    "maxLongitude = np.max(footprint[:,1])"
   ]
  },
  {
   "cell_type": "code",
   "execution_count": 17,
   "metadata": {
    "tags": []
   },
   "outputs": [],
   "source": [
    "NRCS_AWDB_SOAP_WSDL_URL = \"https://wcc.sc.egov.usda.gov/awdbWebService/services?WSDL\"\n",
    "NRCS_AWDB_REST_DATA_ENDPOINT = \"https://wcc.sc.egov.usda.gov/awdbRestApi/services/v1/data\""
   ]
  },
  {
   "cell_type": "code",
   "execution_count": 18,
   "metadata": {
    "tags": []
   },
   "outputs": [
    {
     "name": "stdout",
     "output_type": "stream",
     "text": [
      "0 stations in footprint\n"
     ]
    }
   ],
   "source": [
    "settings         = Settings(strict=False, xml_huge_tree=True)\n",
    "client           = Client(NRCS_AWDB_SOAP_WSDL_URL,settings=settings)\n",
    "station_triplets = client.service.getStations(elementCds='SMS',minLatitude=minLatitude,maxLatitude=maxLatitude,minLongitude=minLongitude,maxLongitude=maxLongitude, logicalAnd=True)\n",
    "print(str(len(station_triplets))+' stations in footprint')"
   ]
  },
  {
   "cell_type": "code",
   "execution_count": 19,
   "metadata": {
    "tags": []
   },
   "outputs": [
    {
     "ename": "ValidationError",
     "evalue": "Expected at least 1 items (minOccurs check) 0 items found. (getStationMetadataMultiple.stationTriplets)",
     "output_type": "error",
     "traceback": [
      "\u001b[0;31m---------------------------------------------------------------------------\u001b[0m",
      "\u001b[0;31mValidationError\u001b[0m                           Traceback (most recent call last)",
      "Cell \u001b[0;32mIn[19], line 1\u001b[0m\n\u001b[0;32m----> 1\u001b[0m data  \u001b[38;5;241m=\u001b[39m \u001b[43mclient\u001b[49m\u001b[38;5;241;43m.\u001b[39;49m\u001b[43mservice\u001b[49m\u001b[38;5;241;43m.\u001b[39;49m\u001b[43mgetStationMetadataMultiple\u001b[49m\u001b[43m(\u001b[49m\u001b[43mstationTriplets\u001b[49m\u001b[38;5;241;43m=\u001b[39;49m\u001b[43mstation_triplets\u001b[49m\u001b[43m)\u001b[49m\n\u001b[1;32m      2\u001b[0m df    \u001b[38;5;241m=\u001b[39m pd\u001b[38;5;241m.\u001b[39mDataFrame\u001b[38;5;241m.\u001b[39mfrom_records(zeep\u001b[38;5;241m.\u001b[39mhelpers\u001b[38;5;241m.\u001b[39mserialize_object(data))\n\u001b[1;32m      3\u001b[0m ptlon \u001b[38;5;241m=\u001b[39m df\u001b[38;5;241m.\u001b[39mlongitude\u001b[38;5;241m.\u001b[39mto_numpy()\u001b[38;5;241m.\u001b[39mastype(\u001b[38;5;124m'\u001b[39m\u001b[38;5;124mfloat\u001b[39m\u001b[38;5;124m'\u001b[39m)\n",
      "File \u001b[0;32m~/.local/envs/isce3_src_cpu/lib/python3.11/site-packages/zeep/proxy.py:46\u001b[0m, in \u001b[0;36mOperationProxy.__call__\u001b[0;34m(self, *args, **kwargs)\u001b[0m\n\u001b[1;32m     43\u001b[0m \u001b[38;5;28;01mif\u001b[39;00m soap_headers:\n\u001b[1;32m     44\u001b[0m     kwargs[\u001b[38;5;124m\"\u001b[39m\u001b[38;5;124m_soapheaders\u001b[39m\u001b[38;5;124m\"\u001b[39m] \u001b[38;5;241m=\u001b[39m soap_headers\n\u001b[0;32m---> 46\u001b[0m \u001b[38;5;28;01mreturn\u001b[39;00m \u001b[38;5;28;43mself\u001b[39;49m\u001b[38;5;241;43m.\u001b[39;49m\u001b[43m_proxy\u001b[49m\u001b[38;5;241;43m.\u001b[39;49m\u001b[43m_binding\u001b[49m\u001b[38;5;241;43m.\u001b[39;49m\u001b[43msend\u001b[49m\u001b[43m(\u001b[49m\n\u001b[1;32m     47\u001b[0m \u001b[43m    \u001b[49m\u001b[38;5;28;43mself\u001b[39;49m\u001b[38;5;241;43m.\u001b[39;49m\u001b[43m_proxy\u001b[49m\u001b[38;5;241;43m.\u001b[39;49m\u001b[43m_client\u001b[49m\u001b[43m,\u001b[49m\n\u001b[1;32m     48\u001b[0m \u001b[43m    \u001b[49m\u001b[38;5;28;43mself\u001b[39;49m\u001b[38;5;241;43m.\u001b[39;49m\u001b[43m_proxy\u001b[49m\u001b[38;5;241;43m.\u001b[39;49m\u001b[43m_binding_options\u001b[49m\u001b[43m,\u001b[49m\n\u001b[1;32m     49\u001b[0m \u001b[43m    \u001b[49m\u001b[38;5;28;43mself\u001b[39;49m\u001b[38;5;241;43m.\u001b[39;49m\u001b[43m_op_name\u001b[49m\u001b[43m,\u001b[49m\n\u001b[1;32m     50\u001b[0m \u001b[43m    \u001b[49m\u001b[43margs\u001b[49m\u001b[43m,\u001b[49m\n\u001b[1;32m     51\u001b[0m \u001b[43m    \u001b[49m\u001b[43mkwargs\u001b[49m\u001b[43m,\u001b[49m\n\u001b[1;32m     52\u001b[0m \u001b[43m\u001b[49m\u001b[43m)\u001b[49m\n",
      "File \u001b[0;32m~/.local/envs/isce3_src_cpu/lib/python3.11/site-packages/zeep/wsdl/bindings/soap.py:123\u001b[0m, in \u001b[0;36mSoapBinding.send\u001b[0;34m(self, client, options, operation, args, kwargs)\u001b[0m\n\u001b[1;32m    108\u001b[0m \u001b[38;5;28;01mdef\u001b[39;00m \u001b[38;5;21msend\u001b[39m(\u001b[38;5;28mself\u001b[39m, client, options, operation, args, kwargs):\n\u001b[1;32m    109\u001b[0m \u001b[38;5;250m    \u001b[39m\u001b[38;5;124;03m\"\"\"Called from the service\u001b[39;00m\n\u001b[1;32m    110\u001b[0m \n\u001b[1;32m    111\u001b[0m \u001b[38;5;124;03m    :param client: The client with which the operation was called\u001b[39;00m\n\u001b[0;32m   (...)\u001b[0m\n\u001b[1;32m    121\u001b[0m \n\u001b[1;32m    122\u001b[0m \u001b[38;5;124;03m    \"\"\"\u001b[39;00m\n\u001b[0;32m--> 123\u001b[0m     envelope, http_headers \u001b[38;5;241m=\u001b[39m \u001b[38;5;28;43mself\u001b[39;49m\u001b[38;5;241;43m.\u001b[39;49m\u001b[43m_create\u001b[49m\u001b[43m(\u001b[49m\n\u001b[1;32m    124\u001b[0m \u001b[43m        \u001b[49m\u001b[43moperation\u001b[49m\u001b[43m,\u001b[49m\u001b[43m \u001b[49m\u001b[43margs\u001b[49m\u001b[43m,\u001b[49m\u001b[43m \u001b[49m\u001b[43mkwargs\u001b[49m\u001b[43m,\u001b[49m\u001b[43m \u001b[49m\u001b[43mclient\u001b[49m\u001b[38;5;241;43m=\u001b[39;49m\u001b[43mclient\u001b[49m\u001b[43m,\u001b[49m\u001b[43m \u001b[49m\u001b[43moptions\u001b[49m\u001b[38;5;241;43m=\u001b[39;49m\u001b[43moptions\u001b[49m\n\u001b[1;32m    125\u001b[0m \u001b[43m    \u001b[49m\u001b[43m)\u001b[49m\n\u001b[1;32m    127\u001b[0m     response \u001b[38;5;241m=\u001b[39m client\u001b[38;5;241m.\u001b[39mtransport\u001b[38;5;241m.\u001b[39mpost_xml(options[\u001b[38;5;124m\"\u001b[39m\u001b[38;5;124maddress\u001b[39m\u001b[38;5;124m\"\u001b[39m], envelope, http_headers)\n\u001b[1;32m    129\u001b[0m     operation_obj \u001b[38;5;241m=\u001b[39m \u001b[38;5;28mself\u001b[39m\u001b[38;5;241m.\u001b[39mget(operation)\n",
      "File \u001b[0;32m~/.local/envs/isce3_src_cpu/lib/python3.11/site-packages/zeep/wsdl/bindings/soap.py:73\u001b[0m, in \u001b[0;36mSoapBinding._create\u001b[0;34m(self, operation, args, kwargs, client, options)\u001b[0m\n\u001b[1;32m     70\u001b[0m     \u001b[38;5;28;01mraise\u001b[39;00m \u001b[38;5;167;01mValueError\u001b[39;00m(\u001b[38;5;124m\"\u001b[39m\u001b[38;5;124mOperation \u001b[39m\u001b[38;5;132;01m%r\u001b[39;00m\u001b[38;5;124m not found\u001b[39m\u001b[38;5;124m\"\u001b[39m \u001b[38;5;241m%\u001b[39m operation)\n\u001b[1;32m     72\u001b[0m \u001b[38;5;66;03m# Create the SOAP envelope\u001b[39;00m\n\u001b[0;32m---> 73\u001b[0m serialized \u001b[38;5;241m=\u001b[39m \u001b[43moperation_obj\u001b[49m\u001b[38;5;241;43m.\u001b[39;49m\u001b[43mcreate\u001b[49m\u001b[43m(\u001b[49m\u001b[38;5;241;43m*\u001b[39;49m\u001b[43margs\u001b[49m\u001b[43m,\u001b[49m\u001b[43m \u001b[49m\u001b[38;5;241;43m*\u001b[39;49m\u001b[38;5;241;43m*\u001b[39;49m\u001b[43mkwargs\u001b[49m\u001b[43m)\u001b[49m\n\u001b[1;32m     74\u001b[0m \u001b[38;5;28mself\u001b[39m\u001b[38;5;241m.\u001b[39m_set_http_headers(serialized, operation_obj)\n\u001b[1;32m     76\u001b[0m envelope \u001b[38;5;241m=\u001b[39m serialized\u001b[38;5;241m.\u001b[39mcontent\n",
      "File \u001b[0;32m~/.local/envs/isce3_src_cpu/lib/python3.11/site-packages/zeep/wsdl/definitions.py:222\u001b[0m, in \u001b[0;36mOperation.create\u001b[0;34m(self, *args, **kwargs)\u001b[0m\n\u001b[1;32m    220\u001b[0m \u001b[38;5;28;01mdef\u001b[39;00m \u001b[38;5;21mcreate\u001b[39m(\u001b[38;5;28mself\u001b[39m, \u001b[38;5;241m*\u001b[39margs, \u001b[38;5;241m*\u001b[39m\u001b[38;5;241m*\u001b[39mkwargs):\n\u001b[1;32m    221\u001b[0m     \u001b[38;5;28;01massert\u001b[39;00m \u001b[38;5;28mself\u001b[39m\u001b[38;5;241m.\u001b[39minput \u001b[38;5;129;01mis\u001b[39;00m \u001b[38;5;129;01mnot\u001b[39;00m \u001b[38;5;28;01mNone\u001b[39;00m\n\u001b[0;32m--> 222\u001b[0m     \u001b[38;5;28;01mreturn\u001b[39;00m \u001b[38;5;28;43mself\u001b[39;49m\u001b[38;5;241;43m.\u001b[39;49m\u001b[43minput\u001b[49m\u001b[38;5;241;43m.\u001b[39;49m\u001b[43mserialize\u001b[49m\u001b[43m(\u001b[49m\u001b[38;5;241;43m*\u001b[39;49m\u001b[43margs\u001b[49m\u001b[43m,\u001b[49m\u001b[43m \u001b[49m\u001b[38;5;241;43m*\u001b[39;49m\u001b[38;5;241;43m*\u001b[39;49m\u001b[43mkwargs\u001b[49m\u001b[43m)\u001b[49m\n",
      "File \u001b[0;32m~/.local/envs/isce3_src_cpu/lib/python3.11/site-packages/zeep/wsdl/messages/soap.py:79\u001b[0m, in \u001b[0;36mSoapMessage.serialize\u001b[0;34m(self, *args, **kwargs)\u001b[0m\n\u001b[1;32m     77\u001b[0m         body \u001b[38;5;241m=\u001b[39m soap\u001b[38;5;241m.\u001b[39mBody()\n\u001b[1;32m     78\u001b[0m         envelope\u001b[38;5;241m.\u001b[39mappend(body)\n\u001b[0;32m---> 79\u001b[0m         \u001b[38;5;28;43mself\u001b[39;49m\u001b[38;5;241;43m.\u001b[39;49m\u001b[43mbody\u001b[49m\u001b[38;5;241;43m.\u001b[39;49m\u001b[43mrender\u001b[49m\u001b[43m(\u001b[49m\u001b[43mbody\u001b[49m\u001b[43m,\u001b[49m\u001b[43m \u001b[49m\u001b[43mbody_value\u001b[49m\u001b[43m)\u001b[49m\n\u001b[1;32m     80\u001b[0m \u001b[38;5;28;01melse\u001b[39;00m:\n\u001b[1;32m     81\u001b[0m     body \u001b[38;5;241m=\u001b[39m soap\u001b[38;5;241m.\u001b[39mBody()\n",
      "File \u001b[0;32m~/.local/envs/isce3_src_cpu/lib/python3.11/site-packages/zeep/xsd/elements/element.py:232\u001b[0m, in \u001b[0;36mElement.render\u001b[0;34m(self, parent, value, render_path)\u001b[0m\n\u001b[1;32m    230\u001b[0m         \u001b[38;5;28mself\u001b[39m\u001b[38;5;241m.\u001b[39m_render_value_item(parent, val, render_path)\n\u001b[1;32m    231\u001b[0m \u001b[38;5;28;01melse\u001b[39;00m:\n\u001b[0;32m--> 232\u001b[0m     \u001b[38;5;28;43mself\u001b[39;49m\u001b[38;5;241;43m.\u001b[39;49m\u001b[43m_render_value_item\u001b[49m\u001b[43m(\u001b[49m\u001b[43mparent\u001b[49m\u001b[43m,\u001b[49m\u001b[43m \u001b[49m\u001b[43mvalue\u001b[49m\u001b[43m,\u001b[49m\u001b[43m \u001b[49m\u001b[43mrender_path\u001b[49m\u001b[43m)\u001b[49m\n",
      "File \u001b[0;32m~/.local/envs/isce3_src_cpu/lib/python3.11/site-packages/zeep/xsd/elements/element.py:256\u001b[0m, in \u001b[0;36mElement._render_value_item\u001b[0;34m(self, parent, value, render_path)\u001b[0m\n\u001b[1;32m    254\u001b[0m \u001b[38;5;28;01mif\u001b[39;00m xsd_type \u001b[38;5;241m!=\u001b[39m \u001b[38;5;28mself\u001b[39m\u001b[38;5;241m.\u001b[39mtype:\n\u001b[1;32m    255\u001b[0m     \u001b[38;5;28;01mreturn\u001b[39;00m value\u001b[38;5;241m.\u001b[39m_xsd_type\u001b[38;5;241m.\u001b[39mrender(node, value, xsd_type, render_path)\n\u001b[0;32m--> 256\u001b[0m \u001b[38;5;28;01mreturn\u001b[39;00m \u001b[38;5;28;43mself\u001b[39;49m\u001b[38;5;241;43m.\u001b[39;49m\u001b[43mtype\u001b[49m\u001b[38;5;241;43m.\u001b[39;49m\u001b[43mrender\u001b[49m\u001b[43m(\u001b[49m\u001b[43mnode\u001b[49m\u001b[43m,\u001b[49m\u001b[43m \u001b[49m\u001b[43mvalue\u001b[49m\u001b[43m,\u001b[49m\u001b[43m \u001b[49m\u001b[38;5;28;43;01mNone\u001b[39;49;00m\u001b[43m,\u001b[49m\u001b[43m \u001b[49m\u001b[43mrender_path\u001b[49m\u001b[43m)\u001b[49m\n",
      "File \u001b[0;32m~/.local/envs/isce3_src_cpu/lib/python3.11/site-packages/zeep/xsd/types/complex.py:295\u001b[0m, in \u001b[0;36mComplexType.render\u001b[0;34m(self, node, value, xsd_type, render_path)\u001b[0m\n\u001b[1;32m    293\u001b[0m         element\u001b[38;5;241m.\u001b[39mtype\u001b[38;5;241m.\u001b[39mrender(node, element_value, \u001b[38;5;28;01mNone\u001b[39;00m, child_path)\n\u001b[1;32m    294\u001b[0m     \u001b[38;5;28;01melse\u001b[39;00m:\n\u001b[0;32m--> 295\u001b[0m         \u001b[43melement\u001b[49m\u001b[38;5;241;43m.\u001b[39;49m\u001b[43mrender\u001b[49m\u001b[43m(\u001b[49m\u001b[43mnode\u001b[49m\u001b[43m,\u001b[49m\u001b[43m \u001b[49m\u001b[43melement_value\u001b[49m\u001b[43m,\u001b[49m\u001b[43m \u001b[49m\u001b[43mchild_path\u001b[49m\u001b[43m)\u001b[49m\n\u001b[1;32m    297\u001b[0m \u001b[38;5;28;01mif\u001b[39;00m xsd_type:\n\u001b[1;32m    298\u001b[0m     \u001b[38;5;28;01mif\u001b[39;00m xsd_type\u001b[38;5;241m.\u001b[39m_xsd_name:\n",
      "File \u001b[0;32m~/.local/envs/isce3_src_cpu/lib/python3.11/site-packages/zeep/xsd/elements/indicators.py:251\u001b[0m, in \u001b[0;36mOrderIndicator.render\u001b[0;34m(self, parent, value, render_path)\u001b[0m\n\u001b[1;32m    248\u001b[0m     \u001b[38;5;28;01mcontinue\u001b[39;00m\n\u001b[1;32m    250\u001b[0m \u001b[38;5;28;01mif\u001b[39;00m element_value \u001b[38;5;129;01mis\u001b[39;00m \u001b[38;5;129;01mnot\u001b[39;00m \u001b[38;5;28;01mNone\u001b[39;00m \u001b[38;5;129;01mor\u001b[39;00m \u001b[38;5;129;01mnot\u001b[39;00m element\u001b[38;5;241m.\u001b[39mis_optional:\n\u001b[0;32m--> 251\u001b[0m     \u001b[43melement\u001b[49m\u001b[38;5;241;43m.\u001b[39;49m\u001b[43mrender\u001b[49m\u001b[43m(\u001b[49m\u001b[43mparent\u001b[49m\u001b[43m,\u001b[49m\u001b[43m \u001b[49m\u001b[43melement_value\u001b[49m\u001b[43m,\u001b[49m\u001b[43m \u001b[49m\u001b[43mchild_path\u001b[49m\u001b[43m)\u001b[49m\n",
      "File \u001b[0;32m~/.local/envs/isce3_src_cpu/lib/python3.11/site-packages/zeep/xsd/elements/element.py:226\u001b[0m, in \u001b[0;36mElement.render\u001b[0;34m(self, parent, value, render_path)\u001b[0m\n\u001b[1;32m    223\u001b[0m     render_path \u001b[38;5;241m=\u001b[39m [\u001b[38;5;28mself\u001b[39m\u001b[38;5;241m.\u001b[39mqname\u001b[38;5;241m.\u001b[39mlocalname]\n\u001b[1;32m    225\u001b[0m \u001b[38;5;28;01massert\u001b[39;00m parent \u001b[38;5;129;01mis\u001b[39;00m \u001b[38;5;129;01mnot\u001b[39;00m \u001b[38;5;28;01mNone\u001b[39;00m\n\u001b[0;32m--> 226\u001b[0m \u001b[38;5;28;43mself\u001b[39;49m\u001b[38;5;241;43m.\u001b[39;49m\u001b[43mvalidate\u001b[49m\u001b[43m(\u001b[49m\u001b[43mvalue\u001b[49m\u001b[43m,\u001b[49m\u001b[43m \u001b[49m\u001b[43mrender_path\u001b[49m\u001b[43m)\u001b[49m\n\u001b[1;32m    228\u001b[0m \u001b[38;5;28;01mif\u001b[39;00m \u001b[38;5;28mself\u001b[39m\u001b[38;5;241m.\u001b[39maccepts_multiple \u001b[38;5;129;01mand\u001b[39;00m \u001b[38;5;28misinstance\u001b[39m(value, \u001b[38;5;28mlist\u001b[39m):\n\u001b[1;32m    229\u001b[0m     \u001b[38;5;28;01mfor\u001b[39;00m val \u001b[38;5;129;01min\u001b[39;00m value:\n",
      "File \u001b[0;32m~/.local/envs/isce3_src_cpu/lib/python3.11/site-packages/zeep/xsd/elements/element.py:264\u001b[0m, in \u001b[0;36mElement.validate\u001b[0;34m(self, value, render_path)\u001b[0m\n\u001b[1;32m    260\u001b[0m \u001b[38;5;28;01mif\u001b[39;00m \u001b[38;5;28mself\u001b[39m\u001b[38;5;241m.\u001b[39maccepts_multiple \u001b[38;5;129;01mand\u001b[39;00m \u001b[38;5;28misinstance\u001b[39m(value, \u001b[38;5;28mlist\u001b[39m):\n\u001b[1;32m    261\u001b[0m \n\u001b[1;32m    262\u001b[0m     \u001b[38;5;66;03m# Validate bounds\u001b[39;00m\n\u001b[1;32m    263\u001b[0m     \u001b[38;5;28;01mif\u001b[39;00m \u001b[38;5;28mlen\u001b[39m(value) \u001b[38;5;241m<\u001b[39m \u001b[38;5;28mself\u001b[39m\u001b[38;5;241m.\u001b[39mmin_occurs:\n\u001b[0;32m--> 264\u001b[0m         \u001b[38;5;28;01mraise\u001b[39;00m exceptions\u001b[38;5;241m.\u001b[39mValidationError(\n\u001b[1;32m    265\u001b[0m             \u001b[38;5;124m\"\u001b[39m\u001b[38;5;124mExpected at least \u001b[39m\u001b[38;5;132;01m%d\u001b[39;00m\u001b[38;5;124m items (minOccurs check) \u001b[39m\u001b[38;5;132;01m%d\u001b[39;00m\u001b[38;5;124m items found.\u001b[39m\u001b[38;5;124m\"\u001b[39m\n\u001b[1;32m    266\u001b[0m             \u001b[38;5;241m%\u001b[39m (\u001b[38;5;28mself\u001b[39m\u001b[38;5;241m.\u001b[39mmin_occurs, \u001b[38;5;28mlen\u001b[39m(value)),\n\u001b[1;32m    267\u001b[0m             path\u001b[38;5;241m=\u001b[39mrender_path,\n\u001b[1;32m    268\u001b[0m         )\n\u001b[1;32m    269\u001b[0m     \u001b[38;5;28;01melif\u001b[39;00m (\n\u001b[1;32m    270\u001b[0m         \u001b[38;5;28mself\u001b[39m\u001b[38;5;241m.\u001b[39mmax_occurs \u001b[38;5;241m!=\u001b[39m \u001b[38;5;124m\"\u001b[39m\u001b[38;5;124munbounded\u001b[39m\u001b[38;5;124m\"\u001b[39m\n\u001b[1;32m    271\u001b[0m         \u001b[38;5;129;01mand\u001b[39;00m \u001b[38;5;28misinstance\u001b[39m(\u001b[38;5;28mself\u001b[39m\u001b[38;5;241m.\u001b[39mmax_occurs, \u001b[38;5;28mint\u001b[39m)\n\u001b[1;32m    272\u001b[0m         \u001b[38;5;129;01mand\u001b[39;00m \u001b[38;5;28mlen\u001b[39m(value) \u001b[38;5;241m>\u001b[39m \u001b[38;5;28mself\u001b[39m\u001b[38;5;241m.\u001b[39mmax_occurs\n\u001b[1;32m    273\u001b[0m     ):\n\u001b[1;32m    274\u001b[0m         \u001b[38;5;28;01mraise\u001b[39;00m exceptions\u001b[38;5;241m.\u001b[39mValidationError(\n\u001b[1;32m    275\u001b[0m             \u001b[38;5;124m\"\u001b[39m\u001b[38;5;124mExpected at most \u001b[39m\u001b[38;5;132;01m%d\u001b[39;00m\u001b[38;5;124m items (maxOccurs check) \u001b[39m\u001b[38;5;132;01m%d\u001b[39;00m\u001b[38;5;124m items found.\u001b[39m\u001b[38;5;124m\"\u001b[39m\n\u001b[1;32m    276\u001b[0m             \u001b[38;5;241m%\u001b[39m (\u001b[38;5;28mself\u001b[39m\u001b[38;5;241m.\u001b[39mmax_occurs, \u001b[38;5;28mlen\u001b[39m(value)),\n\u001b[1;32m    277\u001b[0m             path\u001b[38;5;241m=\u001b[39mrender_path,\n\u001b[1;32m    278\u001b[0m         )\n",
      "\u001b[0;31mValidationError\u001b[0m: Expected at least 1 items (minOccurs check) 0 items found. (getStationMetadataMultiple.stationTriplets)"
     ]
    }
   ],
   "source": [
    "data  = client.service.getStationMetadataMultiple(stationTriplets=station_triplets)\n",
    "df    = pd.DataFrame.from_records(zeep.helpers.serialize_object(data))\n",
    "ptlon = df.longitude.to_numpy().astype('float')\n",
    "ptlat = df.latitude.to_numpy().astype('float')"
   ]
  },
  {
   "cell_type": "code",
   "execution_count": null,
   "metadata": {},
   "outputs": [],
   "source": [
    "path = mpltPath.Path(footprint)\n",
    "pt   = [[ptlat[0],ptlon[0]]]\n",
    "inside = path.contains_points(pt)\n",
    "print('Is point actually in polygon?:',inside[0])"
   ]
  },
  {
   "cell_type": "code",
   "execution_count": null,
   "metadata": {},
   "outputs": [],
   "source": [
    "#load landcover data\n",
    "f_a      = h5py.File(fp_anciStatic,'r')\n",
    "srs     = osr.SpatialReference()\n",
    "srs.ImportFromEPSG(4326) #EASEGRID 2.0\n",
    "\n",
    "map_scale_m = 200.17900466991\n",
    "cols        = 173520\n",
    "rows        = 73080\n",
    "col0        = (cols-1)/2\n",
    "row0        = (rows-1)/2\n",
    "\n",
    "EASEsrs     = osr.SpatialReference()\n",
    "EASEsrs.ImportFromEPSG(6933) #EASEGRID 2.0\n",
    "transform   = osr.CoordinateTransformation(srs, EASEsrs) #transform from Lat/Lon (4326) to EASE\n",
    "coords      = transform.TransformPoint(ptlat[0],ptlon[0]) \n",
    "ptezr       = np.ceil(row0-coords[1]/map_scale_m-0.5).astype('int')\n",
    "ptezc       = np.ceil(col0+coords[0]/map_scale_m-0.5).astype('int')\n",
    "\n",
    "lulc        = f_a['/landCover200m'][ptezr,ptezc]\n",
    "print('lulc=',lulc)\n",
    "f_a         = None"
   ]
  },
  {
   "cell_type": "code",
   "execution_count": null,
   "metadata": {
    "tags": []
   },
   "outputs": [],
   "source": [
    "idx = np.array([np.linalg.norm(x) for x in eci-ptezc]).argmin()\n",
    "idy = np.array([np.linalg.norm(x) for x in eri-ptezr]).argmin()\n",
    "print(lon[idx],lat[idy],ptezr,ptezc,idx,idy)\n",
    "retr= np.zeros([len(modDirs),len(gcovs),3])*np.nan\n",
    "rete= np.zeros([len(modDirs),len(gcovs),3])*np.nan\n",
    "HH  = np.zeros([len(modDirs),len(gcovs)])*np.nan\n",
    "mods=('DSG','PMI','TSR')\n",
    "for j in range(len(modDirs)):\n",
    "    for i in range(len(dates)):\n",
    "            if os.path.isfile(allgcovs[j,i]):\n",
    "                fo=h5py.File(allgcovs[j,i],'r')\n",
    "                dataset='/science/LSAR/SME2/grids/radarData/frequencyA/sigma0HH'\n",
    "                if dataset in fo:\n",
    "                    HH[j,i] =fo[dataset][idy,idx]\n",
    "\n",
    "                for k in range(len(mods)):\n",
    "                    dataset='/science/LSAR/SME2/grids/algorithmCandidates/'+mods[k]+'/soilMoisture'\n",
    "                    if dataset in fo:\n",
    "                        retr[j,i,k] =fo[dataset][idy,idx]\n",
    "                for k in range(len(mods)):\n",
    "                    dataset='/science/LSAR/SME2/grids/algorithmCandidates/'+mods[k]+'/soilMoistureUncertainty'\n",
    "                    if dataset in fo:\n",
    "                        rete[j,i,k] =fo[dataset][idy,idx]\n",
    "                \n",
    "                fo.close()\n",
    "retr[retr<0] = np.nan\n",
    "rete[rete<0] = np.nan\n",
    "HH[HH<0]     = np.nan"
   ]
  },
  {
   "cell_type": "code",
   "execution_count": null,
   "metadata": {
    "tags": []
   },
   "outputs": [],
   "source": [
    "fig,axes = plt.subplots(1,2)\n",
    "# CONUS basemap\n",
    "m = Basemap(projection='merc',llcrnrlat=24,urcrnrlat=49,llcrnrlon=-125,urcrnrlon=-66,lat_ts=35,resolution=None,ax=axes[0])\n",
    "m.shadedrelief()\n",
    "m.plot(np.append(footprint[:,0],footprint[0,0]),np.append(footprint[:,1],footprint[0,1]),'g',latlon=True)\n",
    "m.plot(ptlon,ptlat,'m^',latlon=True)\n",
    "\n",
    "#zoom in version\n",
    "m = Basemap(projection='merc',llcrnrlat=minLatitude-0.1,urcrnrlat=maxLatitude+0.1,llcrnrlon=minLongitude-0.1,urcrnrlon=maxLongitude+0.1,lat_ts=np.mean(footprint[:,0]),resolution='i',ax=axes[1])\n",
    "m.drawcoastlines()\n",
    "m.drawstates()\n",
    "m.pcolor(long,latg,ret,latlon=True)\n",
    "m.plot(np.append(footprint[:,1],footprint[0,1]),np.append(footprint[:,0],footprint[0,0]),latlon=True)\n",
    "m.plot(ptlon,ptlat,'m^',latlon=True)\n",
    "plt.show()"
   ]
  },
  {
   "cell_type": "code",
   "execution_count": null,
   "metadata": {
    "tags": []
   },
   "outputs": [],
   "source": [
    "ELEMENT_CODES = (\"SMS:*\")# Soil Moisture PERCENT\n",
    "DURATION = \"DAILY\""
   ]
  },
  {
   "cell_type": "code",
   "execution_count": null,
   "metadata": {
    "tags": []
   },
   "outputs": [],
   "source": [
    "def build_awdb_data_query_string(\n",
    "    station_triplet: str,\n",
    "    begin_date: str,\n",
    "    end_date: str,\n",
    "    elements: tuple[str, ...],\n",
    "    duration: str,\n",
    "):\n",
    "    \"\"\"Build querystring for the AWDB REST /data endpoint to get station data.\"\"\"\n",
    "    return \"&\".join(\n",
    "        [\n",
    "            f\"stationTriplets={station_triplet}\",\n",
    "            f\"beginDate={begin_date}\",\n",
    "            f\"endDate={end_date}\",\n",
    "            \"elements=SMS%3A%2A\",\n",
    "            f\"duration={duration}\",\n",
    "        ]\n",
    "    )\n",
    "\n",
    "def _series_from_date_value_dicts(arr: list[dict]):\n",
    "    \"\"\"Utility to build a pandas Series from the {\"date\": ..., \"value\": ...} JSON records returned\n",
    "    by the AWDB REST Service data/ endpoint.\n",
    "    \"\"\"\n",
    "    dates, values = zip(*[(entry[\"date\"], entry[\"value\"]) for entry in arr])\n",
    "    return pd.Series(values, index=dates, dtype=\"float\")\n",
    "\n",
    "def get_data_for_station(station_triplet: str, begin_date: datetime.date, end_date: datetime.date) -> pd.DataFrame:\n",
    "    \"\"\"Returns data from NRCS AWDB for a station over given date range.\"\"\"\n",
    "    if type(station_triplet) is list:\n",
    "        if len(station_triplet) > 1 :\n",
    "            station_triplet=','.join(station_triplet)\n",
    "\n",
    "    url = (\n",
    "        NRCS_AWDB_REST_DATA_ENDPOINT\n",
    "        + \"?\"\n",
    "        + build_awdb_data_query_string(\n",
    "            station_triplet=station_triplet,\n",
    "            begin_date=begin_date.strftime(\"%Y-%m-%d\"),\n",
    "            end_date=end_date.strftime(\"%Y-%m-%d\"),\n",
    "            elements=ELEMENT_CODES,\n",
    "            duration=DURATION,\n",
    "        )\n",
    "    )\n",
    "    print(url)\n",
    "    session = requests.Session()\n",
    "    response = session.get(url)\n",
    "\n",
    "    if response.status_code == 200:\n",
    "        if len(response.json())>0:\n",
    "            data = {\n",
    "                entry[\"stationElement\"][\"elementCode\"]\n",
    "                + \"_\"\n",
    "                + entry[\"stationElement\"][\"durationName\"]: _series_from_date_value_dicts(entry[\"values\"])\n",
    "                for entry in response.json()[0][\"data\"]\n",
    "            }\n",
    "            df = pd.DataFrame(data)\n",
    "            df.index.name = \"date\"\n",
    "        else:\n",
    "            print('No data found')\n",
    "            df = pd.DataFrame()\n",
    "    else:\n",
    "        print('Error at site')\n",
    "        df = pd.DataFrame()\n",
    "    return df"
   ]
  },
  {
   "cell_type": "code",
   "execution_count": null,
   "metadata": {
    "tags": []
   },
   "outputs": [],
   "source": [
    "begin_date         = dates[0]+timedelta(days=-7)\n",
    "end_date           = dates[-1]+timedelta(days=7)\n",
    "data_df            = get_data_for_station(station_triplets[0], begin_date, end_date)\n",
    "\n",
    "dfdates            = data_df.index.values\n",
    "dfdn               = np.array([datetime.datetime.strptime(x,'%Y-%m-%d') for x in dfdates])\n",
    "\n",
    "maxdays            = 7\n",
    "dd                 = np.array([np.abs(x-dfdn) for x in dates]).astype('timedelta64[D]').astype(int)\n",
    "\n",
    "ddmin              = np.min(dd,1)\n",
    "indices            = np.argmin(dd, axis=1)\n",
    "bigGap             = np.argwhere(ddmin>=maxdays)\n",
    "insituDates        = dfdn[indices]\n",
    "insituData         = data_df['SMS_DAILY'][indices].values\n",
    "insituData[bigGap] = np.nan\n",
    "\n",
    "minval             = np.nanmin([np.nanmin(data_df['SMS_DAILY'].values),np.nanmin(retr*100,axis=None)])-2\n",
    "maxval             = np.nanmax([np.nanmax(data_df['SMS_DAILY'].values),np.nanmax(retr*100,axis=None)])+2\n"
   ]
  },
  {
   "cell_type": "code",
   "execution_count": null,
   "metadata": {},
   "outputs": [],
   "source": [
    "cols=('r','g','b')\n",
    "symbs=('.','+','^')"
   ]
  },
  {
   "cell_type": "code",
   "execution_count": null,
   "metadata": {},
   "outputs": [],
   "source": [
    "print('Std dev of inSitu Data:',np.nanstd(insituData/100,ddof=1))\n",
    "res               = retr-np.tile(np.reshape(insituData/100,[len(dates),1]),[len(modDirs),1,len(mods)])\n",
    "bias              = np.nanmean(res,axis=1)\n",
    "\n",
    "#just points where all algs are defined\n",
    "allGoodId         = np.argwhere(np.isfinite(np.sum(np.sum(res,axis=2),axis=0))==1).flatten()\n",
    "res2              = res[:,allGoodId,:]\n",
    "bias2             = np.nanmean(res2,axis=1)\n",
    "\n",
    "ubres   = np.zeros([len(modDirs),len(dates),len(mods)])\n",
    "UBRMSE1 = np.zeros([len(modDirs),len(mods)])\n",
    "UBRMSE2 = np.zeros([len(modDirs),len(mods)])\n",
    "stddev1 = np.zeros([len(modDirs),len(mods)])\n",
    "stddev2 = np.zeros([len(modDirs),len(mods)])\n",
    "for i in range(len(modDirs)):\n",
    "    for j in range(3):\n",
    "        count1        = np.sum(np.isfinite(res[i,:,j]))     \n",
    "        count2        = np.sum(np.isfinite(res2[i,:,j]))\n",
    "        ubres[i,:,j]  = res[i,:,j] -bias[i,j]\n",
    "\n",
    "        UBRMSE1[i,j]  = np.sqrt(np.nansum(ubres[i,:,j]**2)/count1)\n",
    "        UBRMSE2[i,j]  = np.sqrt(np.nansum((res2[i,:,j]-bias2[i,j])**2)/count2)\n",
    "        stddev1[i,j]  = np.nanstd(res[i,:,j] ,ddof=1)\n",
    "        stddev2[i,j]  = np.nanstd(res2[i,:,j],ddof=1)\n",
    "\n",
    "print('Using all valid times for each alg, may be different')\n",
    "print('UBRMSE:', UBRMSE1)\n",
    "print('Std dev of res:',stddev1)\n",
    "\n",
    "print('')\n",
    "print('Using same set of times, valid for all alg')\n",
    "print('UBRMSE:', UBRMSE2)\n",
    "print('Std dev of res:',stddev2)"
   ]
  },
  {
   "cell_type": "code",
   "execution_count": null,
   "metadata": {},
   "outputs": [],
   "source": [
    "for i in range(len(modDirs)):\n",
    "    plt.plot(UBRMSE1[i,:],'k'+symbs[i]+'-')\n",
    "    plt.plot(UBRMSE2[i,:],'r'+symbs[i]+'-')\n",
    "    plt.plot(stddev1[i,:],'b'+symbs[i]+'-')\n",
    "# plt.xlabel('DSG','PMI','TSR')"
   ]
  },
  {
   "cell_type": "code",
   "execution_count": null,
   "metadata": {},
   "outputs": [],
   "source": [
    "xticks=[]\n",
    "[xticks.append([datetime.datetime(y,1,1),datetime.datetime(y,7,1)]) for y in range(year0,yearN+1)]\n",
    "xticks = sum(xticks, []) #this flattens the above list\n",
    "\n",
    "myFmt = DateFormatter(\"%Y%m\")\n",
    "fig, ax1 = plt.subplots()\n",
    "\n",
    "ax1.set_xlabel('date')\n",
    "ax1.set_ylabel('mv, %', color='k')\n",
    "ax1.plot(dfdn,data_df['SMS_DAILY'], 'k.')\n",
    "ax1.tick_params(axis='y', labelcolor='k')\n",
    "ax1.set_xticks(xticks)\n",
    "ax1.xaxis.set_major_formatter(myFmt)\n",
    "ax1.set_ylim([minval,maxval])\n",
    "\n",
    "ax2 = ax1.twinx()             # instantiate a second Axes that shares the same x-axis\n",
    "ax2.set_ylabel('retrievals')  # we already handled the x-label with ax1\n",
    "for i in range(len(modDirs)):\n",
    "    for j in range(3):\n",
    "        ax2.plot(dates,retr[i,:,j]*100,cols[j]+symbs[i])\n",
    "ax2.tick_params(axis='y')\n",
    "ax2.set_ylim([minval,maxval])\n",
    "fig.tight_layout()  # otherwise the right y-label is slightly clipped\n",
    "plt.show()"
   ]
  },
  {
   "cell_type": "code",
   "execution_count": null,
   "metadata": {
    "scrolled": true,
    "tags": []
   },
   "outputs": [],
   "source": [
    "xticks=[]\n",
    "[xticks.append([datetime.datetime(y,1,1),datetime.datetime(y,7,1)]) for y in range(year0,yearN+1)]\n",
    "xticks = sum(xticks, []) #this flattens the above list\n",
    "\n",
    "myFmt = DateFormatter(\"%Y%m\")\n",
    "fig, ax1 = plt.subplots()\n",
    "\n",
    "ax1.set_xlabel('date')\n",
    "ax1.set_ylabel('mv, %', color='k')\n",
    "ax1.plot(dfdn,data_df['SMS_DAILY'], 'k.')\n",
    "ax1.tick_params(axis='y', labelcolor='k')\n",
    "ax1.set_xticks(xticks)\n",
    "ax1.xaxis.set_major_formatter(myFmt)\n",
    "ax1.set_ylim([minval,maxval])\n",
    "\n",
    "\n",
    "ax2 = ax1.twinx()             # instantiate a second Axes that shares the same x-axis\n",
    "ax2.set_ylabel('retrievals')  # we already handled the x-label with ax1\n",
    "for i in range(len(modDirs)):\n",
    "    for j in range(3):\n",
    "        ax2.errorbar(dates+datetime.timedelta(days=i*5),retr[i,:,j]*100,yerr=rete[i,:,j]*100,fmt=cols[j]+symbs[i])\n",
    "ax2.tick_params(axis='y')\n",
    "ax2.set_ylim([minval,maxval])\n",
    "fig.tight_layout()  # otherwise the right y-label is slightly clipped\n",
    "plt.show()"
   ]
  },
  {
   "cell_type": "code",
   "execution_count": null,
   "metadata": {},
   "outputs": [],
   "source": [
    "fig,ax1=plt.subplots()\n",
    "for i in range(len(modDirs)):\n",
    "    ax1.plot(dates,HH[i,:],'m'+symbs[i] )\n",
    "ax1.set_ylabel('sigma0HH, aggregated')\n"
   ]
  },
  {
   "cell_type": "code",
   "execution_count": null,
   "metadata": {
    "tags": []
   },
   "outputs": [],
   "source": [
    "fig, ax1 = plt.subplots()\n",
    "\n",
    "ax1.set_xlabel('date')\n",
    "ax1.set_ylabel('unbiased mv, %', color='k')\n",
    "ln1=ax1.plot(insituDates,insituData, 'k.-')\n",
    "ax1.tick_params(axis='y', labelcolor='k')\n",
    "ax1.set_xticks(xticks)\n",
    "ax1.xaxis.set_major_formatter(myFmt)\n",
    "ax1.set_ylim([minval,maxval])\n",
    "ax2 = ax1.twinx()  # instantiate a second Axes that shares the same x-axis\n",
    "ax2.set_ylabel('retrievals, %')  # we already handled the x-label with ax1\n",
    "\n",
    "for i in range(len(modDirs)):\n",
    "    for j in range(3):\n",
    "        ax2.plot(dates,(retr[i,:,j]-bias[i,j])*100,cols[j]+symbs[i] )\n",
    "\n",
    "ax2.tick_params(axis='y')\n",
    "ax2.set_ylim([minval,maxval])\n",
    "#plt.xticks([datetime.datetime(2022,1,1),datetime.datetime(2022,7,1),datetime.datetime(2023,1,1),datetime.datetime(2023,7,1)])\n",
    "#ax2.legend(ln1+ln2,('in situ','DSG','PMI','TSR','DSG2'))\n",
    "fig.tight_layout()  # otherwise the right y-label is slightly clipped\n",
    "plt.show()"
   ]
  },
  {
   "cell_type": "code",
   "execution_count": null,
   "metadata": {
    "tags": []
   },
   "outputs": [],
   "source": [
    "for i in range(len(modDirs)):\n",
    "    for j in range(3):\n",
    "        plt.plot(dates,ubres[i,:,j]*100,cols[j]+symbs[i] )\n",
    "\n",
    "plt.tight_layout\n",
    "plt.grid('on')\n",
    "\n",
    "# plt.legend()\n",
    "plt.ylabel('unbiased res, %')\n",
    "plt.show()"
   ]
  },
  {
   "cell_type": "code",
   "execution_count": null,
   "metadata": {},
   "outputs": [],
   "source": []
  }
 ],
 "metadata": {
  "kernelspec": {
   "display_name": "isce3_src_cpu",
   "language": "python",
   "name": "isce3_src_cpu"
  },
  "language_info": {
   "codemirror_mode": {
    "name": "ipython",
    "version": 3
   },
   "file_extension": ".py",
   "mimetype": "text/x-python",
   "name": "python",
   "nbconvert_exporter": "python",
   "pygments_lexer": "ipython3",
   "version": "3.11.3"
  }
 },
 "nbformat": 4,
 "nbformat_minor": 4
}
