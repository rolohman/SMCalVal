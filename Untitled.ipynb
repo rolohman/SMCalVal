{
 "cells": [
  {
   "cell_type": "code",
   "execution_count": 1,
   "id": "62b1fa08-e441-49f4-95ee-9fb350ae8463",
   "metadata": {},
   "outputs": [],
   "source": [
    "import asf_search as asf"
   ]
  },
  {
   "cell_type": "code",
   "execution_count": 8,
   "id": "f029ec23-1ba4-4882-81d1-b90ca47fbb37",
   "metadata": {},
   "outputs": [
    {
     "name": "stdout",
     "output_type": "stream",
     "text": [
      "{\n",
      "  \"features\": [],\n",
      "  \"type\": \"FeatureCollection\"\n",
      "}\n"
     ]
    }
   ],
   "source": [
    "results = asf.search(platform=asf.PLATFORM.NISAR, maxResults=5)\n",
    "print(results)"
   ]
  },
  {
   "cell_type": "code",
   "execution_count": 9,
   "id": "95307611-fcdc-434d-850b-d4479c9fe979",
   "metadata": {},
   "outputs": [],
   "source": [
    "\n",
    "aoi = 'POLYGON((-152.81 58.49,-154.90 57.49,-155.08 56.30,-153.82 56.34,-151.99 57.30,-151.43 58.19,-152.81 58.49))'\n",
    "opts = {\n",
    "    'platform': asf.PLATFORM.NISAR,\n",
    "    'start': '2010-01-01T00:00:00Z',\n",
    "    'end': '2010-02-01T23:59:59Z'\n",
    "}"
   ]
  },
  {
   "cell_type": "code",
   "execution_count": 10,
   "id": "19e21c59-3f37-410e-a4dc-fbec54a39481",
   "metadata": {},
   "outputs": [
    {
     "name": "stdout",
     "output_type": "stream",
     "text": [
      "0 results found\n"
     ]
    }
   ],
   "source": [
    "results = asf.geo_search(intersectsWith=aoi, **opts)\n",
    "\n",
    "print(f'{len(results)} results found')"
   ]
  },
  {
   "cell_type": "code",
   "execution_count": 14,
   "id": "861f4c30-1df2-46b7-9c42-80f3da8b466b",
   "metadata": {},
   "outputs": [
    {
     "ename": "TypeError",
     "evalue": "search() got an unexpected keyword argument 'product_type'",
     "output_type": "error",
     "traceback": [
      "\u001b[0;31m---------------------------------------------------------------------------\u001b[0m",
      "\u001b[0;31mTypeError\u001b[0m                                 Traceback (most recent call last)",
      "Cell \u001b[0;32mIn[14], line 5\u001b[0m\n\u001b[1;32m      1\u001b[0m opts \u001b[38;5;241m=\u001b[39m {\n\u001b[1;32m      2\u001b[0m     \u001b[38;5;124m'\u001b[39m\u001b[38;5;124mproduct_type\u001b[39m\u001b[38;5;124m'\u001b[39m: asf\u001b[38;5;241m.\u001b[39mPRODUCT_TYPE\u001b[38;5;241m.\u001b[39mL1_0,\n\u001b[1;32m      3\u001b[0m     \u001b[38;5;124m'\u001b[39m\u001b[38;5;124mmaxResults\u001b[39m\u001b[38;5;124m'\u001b[39m: \u001b[38;5;241m5\u001b[39m\n\u001b[1;32m      4\u001b[0m }\n\u001b[0;32m----> 5\u001b[0m results \u001b[38;5;241m=\u001b[39m \u001b[43masf\u001b[49m\u001b[38;5;241;43m.\u001b[39;49m\u001b[43msearch\u001b[49m\u001b[43m(\u001b[49m\u001b[38;5;241;43m*\u001b[39;49m\u001b[38;5;241;43m*\u001b[39;49m\u001b[43mopts\u001b[49m\u001b[43m)\u001b[49m\n",
      "\u001b[0;31mTypeError\u001b[0m: search() got an unexpected keyword argument 'product_type'"
     ]
    }
   ],
   "source": [
    "opts = {\n",
    "    'product_type': asf.PRODUCT_TYPE.L1_0,\n",
    "    'maxResults': 5\n",
    "}\n",
    "results = asf.search(**opts)"
   ]
  },
  {
   "cell_type": "code",
   "execution_count": 13,
   "id": "e7338214-bde1-4069-9486-f0aba8c706c3",
   "metadata": {},
   "outputs": [
    {
     "name": "stdout",
     "output_type": "stream",
     "text": [
      "{\n",
      "  \"features\": [],\n",
      "  \"type\": \"FeatureCollection\"\n",
      "}\n"
     ]
    }
   ],
   "source": [
    "print(results)"
   ]
  },
  {
   "cell_type": "code",
   "execution_count": null,
   "id": "5e14a9b1-d25c-492c-a16c-26975fdb2c22",
   "metadata": {},
   "outputs": [],
   "source": []
  }
 ],
 "metadata": {
  "kernelspec": {
   "display_name": "isce3_src_cpu",
   "language": "python",
   "name": "isce3_src_cpu"
  },
  "language_info": {
   "codemirror_mode": {
    "name": "ipython",
    "version": 3
   },
   "file_extension": ".py",
   "mimetype": "text/x-python",
   "name": "python",
   "nbconvert_exporter": "python",
   "pygments_lexer": "ipython3",
   "version": "3.11.3"
  }
 },
 "nbformat": 4,
 "nbformat_minor": 5
}
