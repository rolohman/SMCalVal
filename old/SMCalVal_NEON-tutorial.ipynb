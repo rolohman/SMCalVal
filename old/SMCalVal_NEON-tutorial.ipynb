{
 "cells": [
  {
   "cell_type": "markdown",
   "metadata": {},
   "source": [
    "## NEON data\n",
    "\n",
    "Data downloaded from https://data.neonscience.org/ using api at https://data.neonscience.org/data-api/. More useful information at: https://data.neonscience.org/data-products/DP1.00094.001\n",
    "\n",
    "Python/API: https://www.neonscience.org/resources/learning-hub/tutorials/neon-api-intro-requests-py\n",
    "\n",
    "Downloading: https://www.neonscience.org/resources/learning-hub/tutorials/download-explore-neon-data\n",
    "\n",
    "Cleaning: https://www.neonscience.org/resources/learning-hub/tutorials/clean-neon-ais-data\n",
    "\n",
    "Cite provisional data as:\n",
    "NEON (National Ecological Observatory Network). Soil water content and water salinity (DP1.00094.001), provisional data. Dataset accessed from https://data.neonscience.org/data-products/DP1.00094.001 on December 18, 2024. Data archived at [your DOI].\n",
    "\n",
    "Cite Released data as:\n",
    "NEON (National Ecological Observatory Network). Soil water content and water salinity (DP1.00094.001), RELEASE-2024. https://doi.org/10.48443/a8vy-y813. Dataset accessed from https://data.neonscience.org/data-products/DP1.00094.001/RELEASE-2024 on December 18, 2024."
   ]
  },
  {
   "cell_type": "code",
   "execution_count": 2,
   "metadata": {
    "tags": []
   },
   "outputs": [],
   "source": [
    "import os\n",
    "import neonutilities as nu\n",
    "import rasterio\n",
    "import glob\n",
    "import requests\n",
    "import json\n",
    "import itertools\n",
    "\n",
    "\n",
    "import datetime\n",
    "from datetime import timedelta\n",
    "import pandas as pd\n",
    "import numpy as np\n",
    "import h5py\n",
    "from zeep import Client, Settings\n",
    "from pprint import pprint\n",
    "import zeep\n",
    "import csv\n",
    "import matplotlib.pyplot as plt\n",
    "from mpl_toolkits.basemap import Basemap\n",
    "from matplotlib.dates import DateFormatter\n",
    "from scipy.interpolate import RegularGridInterpolator\n",
    "import json as js\n",
    "import re\n",
    "import setParams as p\n",
    "from scipy.spatial import ConvexHull"
   ]
  },
  {
   "cell_type": "code",
   "execution_count": 3,
   "metadata": {},
   "outputs": [],
   "source": [
    "#Every request begins with the server's URL\n",
    "SERVER = 'http://data.neonscience.org/api/v0/'"
   ]
  },
  {
   "cell_type": "code",
   "execution_count": 4,
   "metadata": {},
   "outputs": [
    {
     "name": "stdout",
     "output_type": "stream",
     "text": [
      "http://data.neonscience.org/api/v0/sites/TEAK\n"
     ]
    }
   ],
   "source": [
    "#Site Code for Lower Teakettle\n",
    "SITECODE = 'TEAK'\n",
    "#Define the url, using the sites/ endpoint\n",
    "url = SERVER+'sites/'+SITECODE\n",
    "print(url)"
   ]
  },
  {
   "cell_type": "code",
   "execution_count": 5,
   "metadata": {},
   "outputs": [],
   "source": [
    "#Request the url\n",
    "site_request = requests.get(url)\n",
    "\n",
    "#Convert the request to Python JSON object\n",
    "site_json = site_request.json()"
   ]
  },
  {
   "cell_type": "code",
   "execution_count": 6,
   "metadata": {},
   "outputs": [
    {
     "data": {
      "text/plain": [
       "dict_keys(['data'])"
      ]
     },
     "execution_count": 6,
     "metadata": {},
     "output_type": "execute_result"
    }
   ],
   "source": [
    "#Use the 'keys' method to view the component of the uppermost json dictionary\n",
    "site_json.keys()\n"
   ]
  },
  {
   "cell_type": "code",
   "execution_count": 7,
   "metadata": {},
   "outputs": [
    {
     "data": {
      "text/plain": [
       "dict_keys(['siteCode', 'siteName', 'siteDescription', 'siteType', 'siteLatitude', 'siteLongitude', 'stateCode', 'stateName', 'domainCode', 'domainName', 'deimsId', 'releases', 'dataProducts'])"
      ]
     },
     "execution_count": 7,
     "metadata": {},
     "output_type": "execute_result"
    }
   ],
   "source": [
    "#Access the 'data' component, and use the 'keys' method to view to componenets of the json data dictionary\n",
    "site_json['data'].keys()"
   ]
  },
  {
   "cell_type": "code",
   "execution_count": 8,
   "metadata": {},
   "outputs": [
    {
     "data": {
      "text/plain": [
       "{'siteCode': 'TEAK',\n",
       " 'siteName': 'Lower Teakettle NEON',\n",
       " 'siteDescription': 'Lower Teakettle NEON',\n",
       " 'siteType': 'GRADIENT',\n",
       " 'siteLatitude': 37.00583,\n",
       " 'siteLongitude': -119.00602,\n",
       " 'stateCode': 'CA',\n",
       " 'stateName': 'California',\n",
       " 'domainCode': 'D17',\n",
       " 'domainName': 'Pacific Southwest',\n",
       " 'deimsId': 'https://deims.org/16d02952-7cb5-487b-a5a3-7bc9ba0d557e',\n",
       " 'releases': [{'release': 'RELEASE-2021',\n",
       "   'generationDate': '2021-01-23T02:30:02Z',\n",
       "   'url': 'https://data.neonscience.org/api/v0/releases/RELEASE-2021'},\n",
       "  {'release': 'RELEASE-2022',\n",
       "   'generationDate': '2022-01-20T17:39:46Z',\n",
       "   'url': 'https://data.neonscience.org/api/v0/releases/RELEASE-2022'},\n",
       "  {'release': 'RELEASE-2023',\n",
       "   'generationDate': '2023-01-27T12:07:53Z',\n",
       "   'url': 'https://data.neonscience.org/api/v0/releases/RELEASE-2023'},\n",
       "  {'release': 'RELEASE-2024',\n",
       "   'generationDate': '2024-01-27T00:04:25Z',\n",
       "   'url': 'https://data.neonscience.org/api/v0/releases/RELEASE-2024'}]}"
      ]
     },
     "execution_count": 8,
     "metadata": {},
     "output_type": "execute_result"
    }
   ],
   "source": [
    "dict(itertools.islice(site_json['data'].items(),12))"
   ]
  },
  {
   "cell_type": "code",
   "execution_count": 9,
   "metadata": {},
   "outputs": [
    {
     "data": {
      "text/plain": [
       "{'dataProductCode': 'DP3.30026.001',\n",
       " 'dataProductTitle': 'Vegetation indices - spectrometer - mosaic',\n",
       " 'availableMonths': ['2013-06', '2017-06', '2018-06', '2019-06', '2021-07'],\n",
       " 'availableDataUrls': ['https://data.neonscience.org/api/v0/data/DP3.30026.001/TEAK/2013-06',\n",
       "  'https://data.neonscience.org/api/v0/data/DP3.30026.001/TEAK/2017-06',\n",
       "  'https://data.neonscience.org/api/v0/data/DP3.30026.001/TEAK/2018-06',\n",
       "  'https://data.neonscience.org/api/v0/data/DP3.30026.001/TEAK/2019-06',\n",
       "  'https://data.neonscience.org/api/v0/data/DP3.30026.001/TEAK/2021-07'],\n",
       " 'availableReleases': [{'release': 'RELEASE-2024',\n",
       "   'availableMonths': ['2013-06',\n",
       "    '2017-06',\n",
       "    '2018-06',\n",
       "    '2019-06',\n",
       "    '2021-07']}]}"
      ]
     },
     "execution_count": 9,
     "metadata": {},
     "output_type": "execute_result"
    }
   ],
   "source": [
    "#View a data product dictionary\n",
    "site_json['data']['dataProducts'][-3]"
   ]
  },
  {
   "cell_type": "code",
   "execution_count": 11,
   "metadata": {},
   "outputs": [
    {
     "name": "stdout",
     "output_type": "stream",
     "text": [
      "DP1.00001.001 2D wind speed and direction\n",
      "DP1.00002.001 Single aspirated air temperature\n",
      "DP1.00003.001 Triple aspirated air temperature\n",
      "DP1.00004.001 Barometric pressure\n",
      "DP1.00005.001 IR biological temperature\n",
      "DP1.00006.001 Precipitation\n",
      "DP1.00014.001 Shortwave radiation (direct and diffuse pyranometer)\n",
      "DP1.00023.001 Shortwave and longwave radiation (net radiometer)\n",
      "DP1.00024.001 Photosynthetically active radiation (PAR)\n",
      "DP1.00033.001 Phenology images\n",
      "DP1.00040.001 Soil heat flux plate\n",
      "DP1.00041.001 Soil temperature\n",
      "DP1.00042.001 Snow depth and understory phenology images\n",
      "DP1.00066.001 Photosynthetically active radiation (quantum line)\n",
      "DP1.00094.001 Soil water content and water salinity\n",
      "DP1.00095.001 Soil CO2 concentration\n",
      "DP1.00096.001 Soil physical and chemical properties, Megapit\n",
      "DP1.00098.001 Relative humidity\n",
      "DP1.10003.001 Breeding landbird point counts\n",
      "DP1.10010.001 Coarse downed wood log survey\n",
      "DP1.10017.001 Digital hemispheric photos of plot vegetation\n",
      "DP1.10020.001 Ground beetle sequences DNA barcode\n",
      "DP1.10022.001 Ground beetles sampled from pitfall traps\n",
      "DP1.10023.001 Herbaceous clip harvest\n",
      "DP1.10026.001 Plant foliar traits\n",
      "DP1.10033.001 Litterfall and fine woody debris production and chemistry\n",
      "DP1.10038.001 Mosquito sequences DNA barcode\n",
      "DP1.10041.001 Mosquito pathogen status\n",
      "DP1.10043.001 Mosquitoes sampled from CO2 traps\n",
      "DP1.10047.001 Soil physical and chemical properties, distributed initial characterization\n",
      "DP1.10055.001 Plant phenology observations\n",
      "DP1.10058.001 Plant presence and percent cover\n",
      "DP1.10064.001 Rodent pathogen status, hantavirus\n",
      "DP1.10064.002 Rodent pathogen status, tick-borne\n",
      "DP1.10066.001 Root biomass and chemistry, Megapit\n",
      "DP1.10067.001 Root biomass and chemistry, periodic\n",
      "DP1.10072.001 Small mammal box trapping\n",
      "DP1.10076.001 Small mammal sequences DNA barcode\n",
      "DP1.10081.002 Soil microbe community taxonomy\n",
      "DP1.10086.001 Soil physical and chemical properties, periodic\n",
      "DP1.10093.001 Ticks sampled using drag cloths\n",
      "DP1.10098.001 Vegetation structure\n",
      "DP1.10104.001 Soil microbe biomass\n",
      "DP1.10107.001 Soil microbe metagenome sequences\n",
      "DP1.10108.001 Soil microbe marker gene sequences\n",
      "DP1.10111.001 Site management and event reporting\n",
      "DP1.30001.001 LiDAR slant range waveform\n",
      "DP1.30003.001 Discrete return LiDAR point cloud\n",
      "DP1.30006.001 Spectrometer orthorectified surface directional reflectance - flightline\n",
      "DP1.30006.002 Spectrometer orthorectified surface bidirectional reflectance - flightline\n",
      "DP1.30008.001 Spectrometer orthorectified at-sensor radiance - flightline\n",
      "DP1.30010.001 High-resolution orthorectified camera imagery\n",
      "DP2.30011.001 Albedo - spectrometer - flightline\n",
      "DP2.30012.001 LAI - spectrometer - flightline\n",
      "DP2.30012.002 LAI - spectrometer - bidirectional flightline\n",
      "DP2.30014.001 fPAR - spectrometer - flightline\n",
      "DP2.30014.002 fPAR - spectrometer - bidirectional flightline\n",
      "DP2.30019.001 Canopy water indices - flightline\n",
      "DP2.30019.002 Canopy water indices - bidirectional flightline\n",
      "DP2.30026.001 Vegetation indices - spectrometer - flightline\n",
      "DP2.30026.002 Vegetation indices - spectrometer - bidirectional flightline\n",
      "DP3.30006.001 Spectrometer orthorectified surface directional reflectance - mosaic\n",
      "DP3.30006.002 Spectrometer orthorectified surface bidirectional reflectance - mosaic\n",
      "DP3.30010.001 High-resolution orthorectified camera imagery mosaic\n",
      "DP3.30011.001 Albedo - spectrometer - mosaic\n",
      "DP3.30012.001 LAI - spectrometer - mosaic\n",
      "DP3.30012.002 LAI - spectrometer - bidirectional mosaic\n",
      "DP3.30014.001 fPAR - spectrometer - mosaic\n",
      "DP3.30014.002 fPAR - spectrometer - bidirectional mosaic\n",
      "DP3.30015.001 Ecosystem structure\n",
      "DP3.30019.001 Canopy water indices - mosaic\n",
      "DP3.30019.002 Canopy water indices - bidirectional mosaic\n",
      "DP3.30024.001 Elevation - LiDAR\n",
      "DP3.30025.001 Slope and Aspect - LiDAR\n",
      "DP3.30026.001 Vegetation indices - spectrometer - mosaic\n",
      "DP3.30026.002 Vegetation indices - spectrometer - bidirectional mosaic\n",
      "DP4.00200.001 Bundled data products - eddy covariance\n"
     ]
    }
   ],
   "source": [
    "#View product code and name for every available data product\n",
    "for product in site_json['data']['dataProducts']:\n",
    "    print(product['dataProductCode'],product['dataProductTitle'])"
   ]
  },
  {
   "cell_type": "code",
   "execution_count": 10,
   "metadata": {},
   "outputs": [
    {
     "name": "stdout",
     "output_type": "stream",
     "text": [
      "Available Months:  ['2013-06', '2017-06', '2018-06', '2019-06', '2021-07', '2023-07']\n",
      "URLs for each Month:\n",
      "https://data.neonscience.org/api/v0/data/DP3.30015.001/TEAK/2013-06\n",
      "https://data.neonscience.org/api/v0/data/DP3.30015.001/TEAK/2017-06\n",
      "https://data.neonscience.org/api/v0/data/DP3.30015.001/TEAK/2018-06\n",
      "https://data.neonscience.org/api/v0/data/DP3.30015.001/TEAK/2019-06\n",
      "https://data.neonscience.org/api/v0/data/DP3.30015.001/TEAK/2021-07\n",
      "https://data.neonscience.org/api/v0/data/DP3.30015.001/TEAK/2023-07\n"
     ]
    }
   ],
   "source": [
    "#Set the Ecosystem structure (CHM) data product\n",
    "PRODUCTCODE = 'DP3.30015.001'\n",
    "#Get available months of Ecosystem structure data products for TEAK site\n",
    "#Loop through the 'dataProducts' list items (each one is a dictionary) at the site\n",
    "for product in site_json['data']['dataProducts']: \n",
    "    #if a list item's 'dataProductCode' dict element equals the product code string\n",
    "    if(product['dataProductCode'] == PRODUCTCODE): \n",
    "        #print the available months\n",
    "        print('Available Months: ',product['availableMonths'])\n",
    "        print('URLs for each Month:')\n",
    "        #print the available URLs\n",
    "        for url in product['availableDataUrls']:\n",
    "            print(url)"
   ]
  },
  {
   "cell_type": "code",
   "execution_count": 16,
   "metadata": {},
   "outputs": [
    {
     "name": "stdout",
     "output_type": "stream",
     "text": [
      "Available Months:  ['2018-06', '2018-07', '2018-08', '2018-09', '2018-10', '2018-11', '2018-12', '2019-01', '2019-02', '2019-03', '2019-04', '2019-05', '2019-06', '2019-07', '2019-08', '2019-09', '2019-10', '2019-11', '2019-12', '2020-01', '2020-02', '2020-03', '2020-04', '2020-05', '2020-06', '2020-07', '2020-08', '2020-09', '2020-10', '2020-11', '2020-12', '2021-01', '2021-02', '2021-03', '2021-04', '2021-05', '2021-06', '2021-07', '2021-08', '2021-09', '2021-10', '2021-11', '2021-12', '2022-01', '2022-02', '2022-03', '2022-04', '2022-05', '2022-06', '2022-07', '2022-08', '2022-09', '2022-10', '2022-11', '2022-12', '2023-01', '2023-02', '2023-03', '2023-04', '2023-05', '2023-06', '2023-07', '2023-08', '2023-09', '2023-10', '2023-11', '2023-12', '2024-01', '2024-02', '2024-03', '2024-04', '2024-05', '2024-06', '2024-07', '2024-08', '2024-09', '2024-10', '2024-11']\n",
      "URLs for each Month:\n",
      "https://data.neonscience.org/api/v0/data/DP1.00094.001/TEAK/2018-06\n",
      "https://data.neonscience.org/api/v0/data/DP1.00094.001/TEAK/2018-07\n",
      "https://data.neonscience.org/api/v0/data/DP1.00094.001/TEAK/2018-08\n",
      "https://data.neonscience.org/api/v0/data/DP1.00094.001/TEAK/2018-09\n",
      "https://data.neonscience.org/api/v0/data/DP1.00094.001/TEAK/2018-10\n",
      "https://data.neonscience.org/api/v0/data/DP1.00094.001/TEAK/2018-11\n",
      "https://data.neonscience.org/api/v0/data/DP1.00094.001/TEAK/2018-12\n",
      "https://data.neonscience.org/api/v0/data/DP1.00094.001/TEAK/2019-01\n",
      "https://data.neonscience.org/api/v0/data/DP1.00094.001/TEAK/2019-02\n",
      "https://data.neonscience.org/api/v0/data/DP1.00094.001/TEAK/2019-03\n",
      "https://data.neonscience.org/api/v0/data/DP1.00094.001/TEAK/2019-04\n",
      "https://data.neonscience.org/api/v0/data/DP1.00094.001/TEAK/2019-05\n",
      "https://data.neonscience.org/api/v0/data/DP1.00094.001/TEAK/2019-06\n",
      "https://data.neonscience.org/api/v0/data/DP1.00094.001/TEAK/2019-07\n",
      "https://data.neonscience.org/api/v0/data/DP1.00094.001/TEAK/2019-08\n",
      "https://data.neonscience.org/api/v0/data/DP1.00094.001/TEAK/2019-09\n",
      "https://data.neonscience.org/api/v0/data/DP1.00094.001/TEAK/2019-10\n",
      "https://data.neonscience.org/api/v0/data/DP1.00094.001/TEAK/2019-11\n",
      "https://data.neonscience.org/api/v0/data/DP1.00094.001/TEAK/2019-12\n",
      "https://data.neonscience.org/api/v0/data/DP1.00094.001/TEAK/2020-01\n",
      "https://data.neonscience.org/api/v0/data/DP1.00094.001/TEAK/2020-02\n",
      "https://data.neonscience.org/api/v0/data/DP1.00094.001/TEAK/2020-03\n",
      "https://data.neonscience.org/api/v0/data/DP1.00094.001/TEAK/2020-04\n",
      "https://data.neonscience.org/api/v0/data/DP1.00094.001/TEAK/2020-05\n",
      "https://data.neonscience.org/api/v0/data/DP1.00094.001/TEAK/2020-06\n",
      "https://data.neonscience.org/api/v0/data/DP1.00094.001/TEAK/2020-07\n",
      "https://data.neonscience.org/api/v0/data/DP1.00094.001/TEAK/2020-08\n",
      "https://data.neonscience.org/api/v0/data/DP1.00094.001/TEAK/2020-09\n",
      "https://data.neonscience.org/api/v0/data/DP1.00094.001/TEAK/2020-10\n",
      "https://data.neonscience.org/api/v0/data/DP1.00094.001/TEAK/2020-11\n",
      "https://data.neonscience.org/api/v0/data/DP1.00094.001/TEAK/2020-12\n",
      "https://data.neonscience.org/api/v0/data/DP1.00094.001/TEAK/2021-01\n",
      "https://data.neonscience.org/api/v0/data/DP1.00094.001/TEAK/2021-02\n",
      "https://data.neonscience.org/api/v0/data/DP1.00094.001/TEAK/2021-03\n",
      "https://data.neonscience.org/api/v0/data/DP1.00094.001/TEAK/2021-04\n",
      "https://data.neonscience.org/api/v0/data/DP1.00094.001/TEAK/2021-05\n",
      "https://data.neonscience.org/api/v0/data/DP1.00094.001/TEAK/2021-06\n",
      "https://data.neonscience.org/api/v0/data/DP1.00094.001/TEAK/2021-07\n",
      "https://data.neonscience.org/api/v0/data/DP1.00094.001/TEAK/2021-08\n",
      "https://data.neonscience.org/api/v0/data/DP1.00094.001/TEAK/2021-09\n",
      "https://data.neonscience.org/api/v0/data/DP1.00094.001/TEAK/2021-10\n",
      "https://data.neonscience.org/api/v0/data/DP1.00094.001/TEAK/2021-11\n",
      "https://data.neonscience.org/api/v0/data/DP1.00094.001/TEAK/2021-12\n",
      "https://data.neonscience.org/api/v0/data/DP1.00094.001/TEAK/2022-01\n",
      "https://data.neonscience.org/api/v0/data/DP1.00094.001/TEAK/2022-02\n",
      "https://data.neonscience.org/api/v0/data/DP1.00094.001/TEAK/2022-03\n",
      "https://data.neonscience.org/api/v0/data/DP1.00094.001/TEAK/2022-04\n",
      "https://data.neonscience.org/api/v0/data/DP1.00094.001/TEAK/2022-05\n",
      "https://data.neonscience.org/api/v0/data/DP1.00094.001/TEAK/2022-06\n",
      "https://data.neonscience.org/api/v0/data/DP1.00094.001/TEAK/2022-07\n",
      "https://data.neonscience.org/api/v0/data/DP1.00094.001/TEAK/2022-08\n",
      "https://data.neonscience.org/api/v0/data/DP1.00094.001/TEAK/2022-09\n",
      "https://data.neonscience.org/api/v0/data/DP1.00094.001/TEAK/2022-10\n",
      "https://data.neonscience.org/api/v0/data/DP1.00094.001/TEAK/2022-11\n",
      "https://data.neonscience.org/api/v0/data/DP1.00094.001/TEAK/2022-12\n",
      "https://data.neonscience.org/api/v0/data/DP1.00094.001/TEAK/2023-01\n",
      "https://data.neonscience.org/api/v0/data/DP1.00094.001/TEAK/2023-02\n",
      "https://data.neonscience.org/api/v0/data/DP1.00094.001/TEAK/2023-03\n",
      "https://data.neonscience.org/api/v0/data/DP1.00094.001/TEAK/2023-04\n",
      "https://data.neonscience.org/api/v0/data/DP1.00094.001/TEAK/2023-05\n",
      "https://data.neonscience.org/api/v0/data/DP1.00094.001/TEAK/2023-06\n",
      "https://data.neonscience.org/api/v0/data/DP1.00094.001/TEAK/2023-07\n",
      "https://data.neonscience.org/api/v0/data/DP1.00094.001/TEAK/2023-08\n",
      "https://data.neonscience.org/api/v0/data/DP1.00094.001/TEAK/2023-09\n",
      "https://data.neonscience.org/api/v0/data/DP1.00094.001/TEAK/2023-10\n",
      "https://data.neonscience.org/api/v0/data/DP1.00094.001/TEAK/2023-11\n",
      "https://data.neonscience.org/api/v0/data/DP1.00094.001/TEAK/2023-12\n",
      "https://data.neonscience.org/api/v0/data/DP1.00094.001/TEAK/2024-01\n",
      "https://data.neonscience.org/api/v0/data/DP1.00094.001/TEAK/2024-02\n",
      "https://data.neonscience.org/api/v0/data/DP1.00094.001/TEAK/2024-03\n",
      "https://data.neonscience.org/api/v0/data/DP1.00094.001/TEAK/2024-04\n",
      "https://data.neonscience.org/api/v0/data/DP1.00094.001/TEAK/2024-05\n",
      "https://data.neonscience.org/api/v0/data/DP1.00094.001/TEAK/2024-06\n",
      "https://data.neonscience.org/api/v0/data/DP1.00094.001/TEAK/2024-07\n",
      "https://data.neonscience.org/api/v0/data/DP1.00094.001/TEAK/2024-08\n",
      "https://data.neonscience.org/api/v0/data/DP1.00094.001/TEAK/2024-09\n",
      "https://data.neonscience.org/api/v0/data/DP1.00094.001/TEAK/2024-10\n",
      "https://data.neonscience.org/api/v0/data/DP1.00094.001/TEAK/2024-11\n"
     ]
    }
   ],
   "source": [
    "#Set the soil water content and water salinity\n",
    "PRODUCTCODE = 'DP1.00094.001'\n",
    "#Get available months of data products for TEAK site\n",
    "#Loop through the 'dataProducts' list items (each one is a dictionary) at the site\n",
    "for product in site_json['data']['dataProducts']: \n",
    "    #if a list item's 'dataProductCode' dict element equals the product code string\n",
    "    if(product['dataProductCode'] == PRODUCTCODE): \n",
    "        #print the available months\n",
    "        print('Available Months: ',product['availableMonths'])\n",
    "        print('URLs for each Month:')\n",
    "        #print the available URLs\n",
    "        for url in product['availableDataUrls']:\n",
    "            print(url)"
   ]
  },
  {
   "cell_type": "code",
   "execution_count": 17,
   "metadata": {},
   "outputs": [
    {
     "name": "stdout",
     "output_type": "stream",
     "text": [
      "dict_keys(['productCodeLong', 'productCode', 'productCodePresentation', 'productName', 'productDescription', 'productStatus', 'productCategory', 'productHasExpanded', 'productScienceTeamAbbr', 'productScienceTeam', 'productPublicationFormatType', 'productAbstract', 'productDesignDescription', 'productStudyDescription', 'productBasicDescription', 'productExpandedDescription', 'productSensor', 'productRemarks', 'themes', 'changeLogs', 'specs', 'keywords', 'biorepositoryCollections', 'releases', 'siteCodes'])\n",
      "DP1.00094.001\n",
      "Soil water content and water salinity \n",
      "\n",
      "Soil volumetric water content and an index of soil water ion content (salinity) are measured at various depths below the soil surface from approximately 6 cm down to 200 cm at non-permafrost sites (down to 300 cm at Alaskan sites). Soil moisture is an important component of the hydrologic cycle and is the dominant source of water for most plants and soil organisms making it a key indicator of drought. In addition, soil moisture status influences the severity of flooding and temperature extremes, as well as physical, chemical and biological processes in the soil. Measurements are made in vertical profiles consisting of up to eight depths in all five instrumented soil plots at each terrestrial site, and presented as 1-minute and 30-minute averages. Soil moisture sensors cannot accurately measure frozen water, therefore soil water content values will be absent or flagged if the soil was frozen or corresponding soil temperature data were not available to perform this test.\n",
      "\n",
      "Latency:\n",
      "Data collected in any given month are published during the second full week of the following month.\n",
      "\n",
      "This data product is not currently available at the PUUM site (Hawaii) due to the initial soil characterization indicating the soil was too shallow to allow the standard sensor to be installed. An alternative sensor was installed, but it is not currently compatible with the data processing pipeline. Future upgrades to the data processing pipeline will allow the data product to be produced, including retroactively, but this is not expected to occur soon. In the interim, raw sensor data are available upon request via the NEON Contact Form, but have not undergone any quality control, quality assurance, or data flagging.\n"
     ]
    }
   ],
   "source": [
    "#Make request\n",
    "product_request = requests.get(SERVER+'products/'+PRODUCTCODE)\n",
    "product_json = product_request.json()\n",
    "#Print keys for product data dictionary\n",
    "print(product_json['data'].keys())\n",
    "#Print code, name, and abstract of data product\n",
    "print(product_json['data']['productCode'])\n",
    "print(product_json['data']['productName'],'\\n')\n",
    "print(product_json['data']['productAbstract'])\n"
   ]
  },
  {
   "cell_type": "code",
   "execution_count": 13,
   "metadata": {},
   "outputs": [
    {
     "name": "stdout",
     "output_type": "stream",
     "text": [
      "dict_keys(['siteCode', 'availableMonths', 'availableDataUrls', 'availableReleases'])\n"
     ]
    }
   ],
   "source": [
    "#View keys of one site dictionary\n",
    "print(product_json['data']['siteCodes'][0].keys())\n"
   ]
  },
  {
   "cell_type": "code",
   "execution_count": 18,
   "metadata": {},
   "outputs": [
    {
     "name": "stdout",
     "output_type": "stream",
     "text": [
      "2018-06 https://data.neonscience.org/api/v0/data/DP1.00094.001/TEAK/2018-06\n",
      "2018-07 https://data.neonscience.org/api/v0/data/DP1.00094.001/TEAK/2018-07\n",
      "2018-08 https://data.neonscience.org/api/v0/data/DP1.00094.001/TEAK/2018-08\n",
      "2018-09 https://data.neonscience.org/api/v0/data/DP1.00094.001/TEAK/2018-09\n",
      "2018-10 https://data.neonscience.org/api/v0/data/DP1.00094.001/TEAK/2018-10\n",
      "2018-11 https://data.neonscience.org/api/v0/data/DP1.00094.001/TEAK/2018-11\n",
      "2018-12 https://data.neonscience.org/api/v0/data/DP1.00094.001/TEAK/2018-12\n",
      "2019-01 https://data.neonscience.org/api/v0/data/DP1.00094.001/TEAK/2019-01\n",
      "2019-02 https://data.neonscience.org/api/v0/data/DP1.00094.001/TEAK/2019-02\n",
      "2019-03 https://data.neonscience.org/api/v0/data/DP1.00094.001/TEAK/2019-03\n",
      "2019-04 https://data.neonscience.org/api/v0/data/DP1.00094.001/TEAK/2019-04\n",
      "2019-05 https://data.neonscience.org/api/v0/data/DP1.00094.001/TEAK/2019-05\n",
      "2019-06 https://data.neonscience.org/api/v0/data/DP1.00094.001/TEAK/2019-06\n",
      "2019-07 https://data.neonscience.org/api/v0/data/DP1.00094.001/TEAK/2019-07\n",
      "2019-08 https://data.neonscience.org/api/v0/data/DP1.00094.001/TEAK/2019-08\n",
      "2019-09 https://data.neonscience.org/api/v0/data/DP1.00094.001/TEAK/2019-09\n",
      "2019-10 https://data.neonscience.org/api/v0/data/DP1.00094.001/TEAK/2019-10\n",
      "2019-11 https://data.neonscience.org/api/v0/data/DP1.00094.001/TEAK/2019-11\n",
      "2019-12 https://data.neonscience.org/api/v0/data/DP1.00094.001/TEAK/2019-12\n",
      "2020-01 https://data.neonscience.org/api/v0/data/DP1.00094.001/TEAK/2020-01\n",
      "2020-02 https://data.neonscience.org/api/v0/data/DP1.00094.001/TEAK/2020-02\n",
      "2020-03 https://data.neonscience.org/api/v0/data/DP1.00094.001/TEAK/2020-03\n",
      "2020-04 https://data.neonscience.org/api/v0/data/DP1.00094.001/TEAK/2020-04\n",
      "2020-05 https://data.neonscience.org/api/v0/data/DP1.00094.001/TEAK/2020-05\n",
      "2020-06 https://data.neonscience.org/api/v0/data/DP1.00094.001/TEAK/2020-06\n",
      "2020-07 https://data.neonscience.org/api/v0/data/DP1.00094.001/TEAK/2020-07\n",
      "2020-08 https://data.neonscience.org/api/v0/data/DP1.00094.001/TEAK/2020-08\n",
      "2020-09 https://data.neonscience.org/api/v0/data/DP1.00094.001/TEAK/2020-09\n",
      "2020-10 https://data.neonscience.org/api/v0/data/DP1.00094.001/TEAK/2020-10\n",
      "2020-11 https://data.neonscience.org/api/v0/data/DP1.00094.001/TEAK/2020-11\n",
      "2020-12 https://data.neonscience.org/api/v0/data/DP1.00094.001/TEAK/2020-12\n",
      "2021-01 https://data.neonscience.org/api/v0/data/DP1.00094.001/TEAK/2021-01\n",
      "2021-02 https://data.neonscience.org/api/v0/data/DP1.00094.001/TEAK/2021-02\n",
      "2021-03 https://data.neonscience.org/api/v0/data/DP1.00094.001/TEAK/2021-03\n",
      "2021-04 https://data.neonscience.org/api/v0/data/DP1.00094.001/TEAK/2021-04\n",
      "2021-05 https://data.neonscience.org/api/v0/data/DP1.00094.001/TEAK/2021-05\n",
      "2021-06 https://data.neonscience.org/api/v0/data/DP1.00094.001/TEAK/2021-06\n",
      "2021-07 https://data.neonscience.org/api/v0/data/DP1.00094.001/TEAK/2021-07\n",
      "2021-08 https://data.neonscience.org/api/v0/data/DP1.00094.001/TEAK/2021-08\n",
      "2021-09 https://data.neonscience.org/api/v0/data/DP1.00094.001/TEAK/2021-09\n",
      "2021-10 https://data.neonscience.org/api/v0/data/DP1.00094.001/TEAK/2021-10\n",
      "2021-11 https://data.neonscience.org/api/v0/data/DP1.00094.001/TEAK/2021-11\n",
      "2021-12 https://data.neonscience.org/api/v0/data/DP1.00094.001/TEAK/2021-12\n",
      "2022-01 https://data.neonscience.org/api/v0/data/DP1.00094.001/TEAK/2022-01\n",
      "2022-02 https://data.neonscience.org/api/v0/data/DP1.00094.001/TEAK/2022-02\n",
      "2022-03 https://data.neonscience.org/api/v0/data/DP1.00094.001/TEAK/2022-03\n",
      "2022-04 https://data.neonscience.org/api/v0/data/DP1.00094.001/TEAK/2022-04\n",
      "2022-05 https://data.neonscience.org/api/v0/data/DP1.00094.001/TEAK/2022-05\n",
      "2022-06 https://data.neonscience.org/api/v0/data/DP1.00094.001/TEAK/2022-06\n",
      "2022-07 https://data.neonscience.org/api/v0/data/DP1.00094.001/TEAK/2022-07\n",
      "2022-08 https://data.neonscience.org/api/v0/data/DP1.00094.001/TEAK/2022-08\n",
      "2022-09 https://data.neonscience.org/api/v0/data/DP1.00094.001/TEAK/2022-09\n",
      "2022-10 https://data.neonscience.org/api/v0/data/DP1.00094.001/TEAK/2022-10\n",
      "2022-11 https://data.neonscience.org/api/v0/data/DP1.00094.001/TEAK/2022-11\n",
      "2022-12 https://data.neonscience.org/api/v0/data/DP1.00094.001/TEAK/2022-12\n",
      "2023-01 https://data.neonscience.org/api/v0/data/DP1.00094.001/TEAK/2023-01\n",
      "2023-02 https://data.neonscience.org/api/v0/data/DP1.00094.001/TEAK/2023-02\n",
      "2023-03 https://data.neonscience.org/api/v0/data/DP1.00094.001/TEAK/2023-03\n",
      "2023-04 https://data.neonscience.org/api/v0/data/DP1.00094.001/TEAK/2023-04\n",
      "2023-05 https://data.neonscience.org/api/v0/data/DP1.00094.001/TEAK/2023-05\n",
      "2023-06 https://data.neonscience.org/api/v0/data/DP1.00094.001/TEAK/2023-06\n",
      "2023-07 https://data.neonscience.org/api/v0/data/DP1.00094.001/TEAK/2023-07\n",
      "2023-08 https://data.neonscience.org/api/v0/data/DP1.00094.001/TEAK/2023-08\n",
      "2023-09 https://data.neonscience.org/api/v0/data/DP1.00094.001/TEAK/2023-09\n",
      "2023-10 https://data.neonscience.org/api/v0/data/DP1.00094.001/TEAK/2023-10\n",
      "2023-11 https://data.neonscience.org/api/v0/data/DP1.00094.001/TEAK/2023-11\n",
      "2023-12 https://data.neonscience.org/api/v0/data/DP1.00094.001/TEAK/2023-12\n",
      "2024-01 https://data.neonscience.org/api/v0/data/DP1.00094.001/TEAK/2024-01\n",
      "2024-02 https://data.neonscience.org/api/v0/data/DP1.00094.001/TEAK/2024-02\n",
      "2024-03 https://data.neonscience.org/api/v0/data/DP1.00094.001/TEAK/2024-03\n",
      "2024-04 https://data.neonscience.org/api/v0/data/DP1.00094.001/TEAK/2024-04\n",
      "2024-05 https://data.neonscience.org/api/v0/data/DP1.00094.001/TEAK/2024-05\n",
      "2024-06 https://data.neonscience.org/api/v0/data/DP1.00094.001/TEAK/2024-06\n",
      "2024-07 https://data.neonscience.org/api/v0/data/DP1.00094.001/TEAK/2024-07\n",
      "2024-08 https://data.neonscience.org/api/v0/data/DP1.00094.001/TEAK/2024-08\n",
      "2024-09 https://data.neonscience.org/api/v0/data/DP1.00094.001/TEAK/2024-09\n",
      "2024-10 https://data.neonscience.org/api/v0/data/DP1.00094.001/TEAK/2024-10\n",
      "2024-11 https://data.neonscience.org/api/v0/data/DP1.00094.001/TEAK/2024-11\n"
     ]
    }
   ],
   "source": [
    "#View available months and corresponding API urls, then save desired URL\n",
    "for site in product_json['data']['siteCodes']:\n",
    "    if(site['siteCode'] == SITECODE):\n",
    "        for month in zip(site['availableMonths'],site['availableDataUrls']): #Loop through the list of months and URLs\n",
    "            print(month[0],month[1]) \n",
    "            if(month[0] == '2024-11'): #If data is available for the desired month, save the URL\n",
    "                data_url = month[1]"
   ]
  },
  {
   "cell_type": "code",
   "execution_count": 19,
   "metadata": {},
   "outputs": [
    {
     "name": "stdout",
     "output_type": "stream",
     "text": [
      "https://data.neonscience.org/api/v0/data/DP1.00094.001/TEAK/2024-11\n"
     ]
    }
   ],
   "source": [
    "print(data_url)"
   ]
  },
  {
   "cell_type": "code",
   "execution_count": 20,
   "metadata": {},
   "outputs": [],
   "source": [
    "#Make Request\n",
    "data_request = requests.get(SERVER+'data/'+PRODUCTCODE+'/'+SITECODE+'/'+'2024-11')\n",
    "data_json = data_request.json()"
   ]
  },
  {
   "cell_type": "code",
   "execution_count": 21,
   "metadata": {},
   "outputs": [
    {
     "name": "stdout",
     "output_type": "stream",
     "text": [
      "dict_keys(['productCode', 'siteCode', 'month', 'release', 'packages', 'files'])\n"
     ]
    }
   ],
   "source": [
    "#Print dict key for 'data' element of data JSON\n",
    "print(data_json['data'].keys())"
   ]
  },
  {
   "cell_type": "code",
   "execution_count": null,
   "metadata": {},
   "outputs": [],
   "source": [
    "#Make request with saved url\n",
    "data_request = requests.get(data_url)\n",
    "data_json = data_request.json()"
   ]
  },
  {
   "cell_type": "code",
   "execution_count": 22,
   "metadata": {},
   "outputs": [
    {
     "name": "stdout",
     "output_type": "stream",
     "text": [
      "dict_keys(['productCode', 'siteCode', 'month', 'release', 'packages', 'files'])\n"
     ]
    }
   ],
   "source": [
    "#Print dict key for 'data' element of data JSON\n",
    "print(data_json['data'].keys())"
   ]
  },
  {
   "cell_type": "code",
   "execution_count": 23,
   "metadata": {},
   "outputs": [
    {
     "name": "stdout",
     "output_type": "stream",
     "text": [
      "name :\t NEON.D17.TEAK.DP1.00094.001.002.503.030.SWS_30_minute.2024-11.expanded.20241203T231635Z.csv\n",
      "size :\t 587830\n",
      "md5 :\t d6641a135fb6f9867b1459ffa09a024b\n",
      "crc32 :\t None\n",
      "crc32c :\t None\n",
      "url :\t https://storage.googleapis.com/neon-publication/NEON.DOM.SITE.DP1.00094.001/TEAK/20241101T000000--20241201T000000/expanded/NEON.D17.TEAK.DP1.00094.001.002.503.030.SWS_30_minute.2024-11.expanded.20241203T231635Z.csv\n"
     ]
    }
   ],
   "source": [
    "#View keys and values in first file dict\n",
    "for key in data_json['data']['files'][0].keys(): #Loop through keys of the data file dict\n",
    "    print(key,':\\t', data_json['data']['files'][0][key])\n"
   ]
  },
  {
   "cell_type": "code",
   "execution_count": 24,
   "metadata": {},
   "outputs": [
    {
     "name": "stdout",
     "output_type": "stream",
     "text": [
      "NEON.D17.TEAK.DP1.00094.001.002.503.030.SWS_30_minute.2024-11.expanded.20241203T231635Z.csv\n",
      "NEON.D17.TEAK.DP1.00094.001.005.501.001.SWS_1_minute.2024-11.expanded.20241203T231635Z.csv\n",
      "NEON.D17.TEAK.DP1.00094.001.001.503.030.SWS_30_minute.2024-11.expanded.20241203T231635Z.csv\n",
      "NEON.D17.TEAK.DP1.00094.001.004.504.030.SWS_30_minute.2024-11.expanded.20241203T231635Z.csv\n",
      "NEON.D17.TEAK.DP1.00094.001.003.504.030.SWS_30_minute.2024-11.expanded.20241203T231635Z.csv\n",
      "NEON.D17.TEAK.DP1.00094.001.002.501.001.SWS_1_minute.2024-11.expanded.20241203T231635Z.csv\n",
      "NEON.D17.TEAK.DP1.00094.001.003.503.030.SWS_30_minute.2024-11.expanded.20241203T231635Z.csv\n",
      "NEON.D17.TEAK.DP1.00094.001.002.508.001.SWS_1_minute.2024-11.expanded.20241203T231635Z.csv\n",
      "NEON.D17.TEAK.DP1.00094.001.001.504.001.SWS_1_minute.2024-11.expanded.20241203T231635Z.csv\n",
      "NEON.D17.TEAK.DP1.00094.001.001.503.001.SWS_1_minute.2024-11.expanded.20241203T231635Z.csv\n"
     ]
    }
   ],
   "source": [
    "#Display the names of the first 10 files\n",
    "for file in data_json['data']['files'][:10]:\n",
    "    print(file['name'])"
   ]
  },
  {
   "cell_type": "code",
   "execution_count": null,
   "metadata": {},
   "outputs": [],
   "source": []
  }
 ],
 "metadata": {
  "kernelspec": {
   "display_name": "isce3_src_cpu",
   "language": "python",
   "name": "isce3_src_cpu"
  },
  "language_info": {
   "codemirror_mode": {
    "name": "ipython",
    "version": 3
   },
   "file_extension": ".py",
   "mimetype": "text/x-python",
   "name": "python",
   "nbconvert_exporter": "python",
   "pygments_lexer": "ipython3",
   "version": "3.11.3"
  }
 },
 "nbformat": 4,
 "nbformat_minor": 4
}
